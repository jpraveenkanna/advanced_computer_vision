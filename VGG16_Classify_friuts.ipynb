{
  "nbformat": 4,
  "nbformat_minor": 0,
  "metadata": {
    "colab": {
      "name": "VGG16_Classify_friuts.ipynb",
      "provenance": [],
      "collapsed_sections": []
    },
    "kernelspec": {
      "name": "python3",
      "display_name": "Python 3"
    },
    "accelerator": "GPU"
  },
  "cells": [
    {
      "cell_type": "code",
      "metadata": {
        "id": "c49y2egeiW5i",
        "colab_type": "code",
        "outputId": "cd430951-8210-4c15-d807-c4f9c574e983",
        "colab": {
          "base_uri": "https://localhost:8080/",
          "height": 121
        }
      },
      "source": [
        "#Downloading dataset\n",
        "!git clone https://github.com/Horea94/Fruit-Images-Dataset"
      ],
      "execution_count": 1,
      "outputs": [
        {
          "output_type": "stream",
          "text": [
            "Cloning into 'Fruit-Images-Dataset'...\n",
            "remote: Enumerating objects: 377165, done.\u001b[K\n",
            "remote: Total 377165 (delta 0), reused 0 (delta 0), pack-reused 377165\u001b[K\n",
            "Receiving objects: 100% (377165/377165), 2.06 GiB | 43.47 MiB/s, done.\n",
            "Resolving deltas: 100% (1160/1160), done.\n",
            "Checking out files: 100% (82231/82231), done.\n"
          ],
          "name": "stdout"
        }
      ]
    },
    {
      "cell_type": "markdown",
      "metadata": {
        "id": "nWYDpqT9Q_SH",
        "colab_type": "text"
      },
      "source": [
        "#Preprocessing"
      ]
    },
    {
      "cell_type": "code",
      "metadata": {
        "id": "jH4qMkXnkbkU",
        "colab_type": "code",
        "colab": {}
      },
      "source": [
        "import os"
      ],
      "execution_count": 0,
      "outputs": []
    },
    {
      "cell_type": "code",
      "metadata": {
        "id": "fL_3sbZl5BX7",
        "colab_type": "code",
        "colab": {}
      },
      "source": [
        "def make_dir(parent):\n",
        "  if not os.path.exists(parent):\n",
        "    os.mkdir(parent)\n",
        "    \n",
        "def link(src,dst):\n",
        "  if not os.path.exists(dst):\n",
        "    os.symlink(src, dst, target_is_directory=True)"
      ],
      "execution_count": 0,
      "outputs": []
    },
    {
      "cell_type": "code",
      "metadata": {
        "id": "31mAmaoI7JQd",
        "colab_type": "code",
        "colab": {}
      },
      "source": [
        "make_dir('../content/fruits_img')"
      ],
      "execution_count": 0,
      "outputs": []
    },
    {
      "cell_type": "code",
      "metadata": {
        "id": "uY5zgAQq6Wd1",
        "colab_type": "code",
        "colab": {}
      },
      "source": [
        "make_dir('../content/fruits_img/fruits-360-small')"
      ],
      "execution_count": 0,
      "outputs": []
    },
    {
      "cell_type": "code",
      "metadata": {
        "id": "C3ydp-Cx7Mc5",
        "colab_type": "code",
        "colab": {}
      },
      "source": [
        "from __future__ import print_function, division\n",
        "from builtins import range, input\n",
        "from glob import glob"
      ],
      "execution_count": 0,
      "outputs": []
    },
    {
      "cell_type": "code",
      "metadata": {
        "id": "3fP1b4HC7gGD",
        "colab_type": "code",
        "colab": {
          "base_uri": "https://localhost:8080/",
          "height": 34
        },
        "outputId": "e9a77382-63eb-4ecc-f4e1-cb2e35e45c83"
      },
      "source": [
        "image_files = glob('/content/Fruit-Images-Dataset/Training' + '/*/*.jp*g')\n",
        "print(len(image_files))"
      ],
      "execution_count": 116,
      "outputs": [
        {
          "output_type": "stream",
          "text": [
            "61488\n"
          ],
          "name": "stdout"
        }
      ]
    },
    {
      "cell_type": "code",
      "metadata": {
        "id": "7pZziNuq73Sy",
        "colab_type": "code",
        "colab": {
          "base_uri": "https://localhost:8080/",
          "height": 34
        },
        "outputId": "3377a84d-3ae7-49e1-e2b8-860d06e34d8f"
      },
      "source": [
        "image_files[1]"
      ],
      "execution_count": 16,
      "outputs": [
        {
          "output_type": "execute_result",
          "data": {
            "text/plain": [
              "'/content/Fruit-Images-Dataset/Training/Maracuja/308_100.jpg'"
            ]
          },
          "metadata": {
            "tags": []
          },
          "execution_count": 16
        }
      ]
    },
    {
      "cell_type": "code",
      "metadata": {
        "id": "ZSB3ITYw8BeY",
        "colab_type": "code",
        "colab": {
          "base_uri": "https://localhost:8080/",
          "height": 54
        },
        "outputId": "86452957-0e62-46fd-dacf-e9b13b4d42b2"
      },
      "source": [
        "fruits_label=os.listdir('/content/Fruit-Images-Dataset/Training')\n",
        "fruits_label=list(sorted(fruits_label))\n",
        "print(fruits_label)\n"
      ],
      "execution_count": 25,
      "outputs": [
        {
          "output_type": "stream",
          "text": [
            "['Apple Braeburn', 'Apple Crimson Snow', 'Apple Golden 1', 'Apple Golden 2', 'Apple Golden 3', 'Apple Granny Smith', 'Apple Pink Lady', 'Apple Red 1', 'Apple Red 2', 'Apple Red 3', 'Apple Red Delicious', 'Apple Red Yellow 1', 'Apple Red Yellow 2', 'Apricot', 'Avocado', 'Avocado ripe', 'Banana', 'Banana Lady Finger', 'Banana Red', 'Beetroot', 'Blueberry', 'Cactus fruit', 'Cantaloupe 1', 'Cantaloupe 2', 'Carambula', 'Cauliflower', 'Cherry 1', 'Cherry 2', 'Cherry Rainier', 'Cherry Wax Black', 'Cherry Wax Red', 'Cherry Wax Yellow', 'Chestnut', 'Clementine', 'Cocos', 'Dates', 'Eggplant', 'Ginger Root', 'Granadilla', 'Grape Blue', 'Grape Pink', 'Grape White', 'Grape White 2', 'Grape White 3', 'Grape White 4', 'Grapefruit Pink', 'Grapefruit White', 'Guava', 'Hazelnut', 'Huckleberry', 'Kaki', 'Kiwi', 'Kohlrabi', 'Kumquats', 'Lemon', 'Lemon Meyer', 'Limes', 'Lychee', 'Mandarine', 'Mango', 'Mango Red', 'Mangostan', 'Maracuja', 'Melon Piel de Sapo', 'Mulberry', 'Nectarine', 'Nectarine Flat', 'Nut Forest', 'Nut Pecan', 'Onion Red', 'Onion Red Peeled', 'Onion White', 'Orange', 'Papaya', 'Passion Fruit', 'Peach', 'Peach 2', 'Peach Flat', 'Pear', 'Pear Abate', 'Pear Forelle', 'Pear Kaiser', 'Pear Monster', 'Pear Red', 'Pear Williams', 'Pepino', 'Pepper Green', 'Pepper Red', 'Pepper Yellow', 'Physalis', 'Physalis with Husk', 'Pineapple', 'Pineapple Mini', 'Pitahaya Red', 'Plum', 'Plum 2', 'Plum 3', 'Pomegranate', 'Pomelo Sweetie', 'Potato Red', 'Potato Red Washed', 'Potato Sweet', 'Potato White', 'Quince', 'Rambutan', 'Raspberry', 'Redcurrant', 'Salak', 'Strawberry', 'Strawberry Wedge', 'Tamarillo', 'Tangelo', 'Tomato 1', 'Tomato 2', 'Tomato 3', 'Tomato 4', 'Tomato Cherry Red', 'Tomato Maroon', 'Tomato Yellow', 'Walnut']\n"
          ],
          "name": "stdout"
        }
      ]
    },
    {
      "cell_type": "code",
      "metadata": {
        "id": "2BrralXiCAEO",
        "colab_type": "code",
        "colab": {
          "base_uri": "https://localhost:8080/",
          "height": 34
        },
        "outputId": "9fac1198-250b-478d-a735-9a5ce7f950bf"
      },
      "source": [
        "print(len(fruits_label))"
      ],
      "execution_count": 50,
      "outputs": [
        {
          "output_type": "stream",
          "text": [
            "120\n"
          ],
          "name": "stdout"
        }
      ]
    },
    {
      "cell_type": "code",
      "metadata": {
        "id": "d-WIVD9x_bQA",
        "colab_type": "code",
        "colab": {}
      },
      "source": [
        "fruits_label_count = [None]"
      ],
      "execution_count": 0,
      "outputs": []
    },
    {
      "cell_type": "code",
      "metadata": {
        "id": "mjqJ0_ZQ9Pr6",
        "colab_type": "code",
        "colab": {}
      },
      "source": [
        "\n",
        "for fruits in fruits_label:\n",
        "  no_of_images= len(glob('/content/Fruit-Images-Dataset/Training/' + fruits + '/*.jp*g'))\n",
        "  print(\"Images of {0} :{1}\".format(fruits,no_of_images))\n",
        "  fruits_label_count.append(no_of_images)"
      ],
      "execution_count": 0,
      "outputs": []
    },
    {
      "cell_type": "code",
      "metadata": {
        "id": "_j6xnPAvCITQ",
        "colab_type": "code",
        "colab": {}
      },
      "source": [
        "fruits_label_count.remove(None)"
      ],
      "execution_count": 0,
      "outputs": []
    },
    {
      "cell_type": "code",
      "metadata": {
        "id": "Go8dwaC___qH",
        "colab_type": "code",
        "colab": {
          "base_uri": "https://localhost:8080/",
          "height": 54
        },
        "outputId": "1ea763d0-020b-4c1d-c60e-d471e792277d"
      },
      "source": [
        "print(fruits_label_count)"
      ],
      "execution_count": 53,
      "outputs": [
        {
          "output_type": "stream",
          "text": [
            "[492, 444, 492, 492, 481, 492, 456, 492, 492, 429, 490, 492, 672, 492, 427, 491, 490, 450, 490, 450, 462, 490, 492, 492, 490, 702, 492, 738, 738, 492, 492, 492, 450, 490, 490, 490, 468, 297, 490, 984, 492, 490, 490, 492, 471, 490, 492, 490, 464, 490, 490, 466, 471, 490, 492, 490, 490, 490, 490, 490, 426, 300, 490, 738, 492, 492, 480, 654, 534, 450, 445, 438, 479, 492, 490, 492, 738, 492, 492, 490, 702, 300, 490, 666, 490, 490, 444, 666, 666, 492, 492, 490, 493, 490, 447, 420, 900, 492, 450, 450, 453, 450, 450, 490, 492, 490, 492, 490, 492, 738, 490, 490, 738, 672, 738, 479, 492, 367, 459, 735]\n"
          ],
          "name": "stdout"
        }
      ]
    },
    {
      "cell_type": "code",
      "metadata": {
        "id": "EfCP6jyNAdPk",
        "colab_type": "code",
        "colab": {
          "base_uri": "https://localhost:8080/",
          "height": 34
        },
        "outputId": "7b099047-14ab-49ae-bdb8-714555a079d1"
      },
      "source": [
        "len(fruits_label_count)"
      ],
      "execution_count": 52,
      "outputs": [
        {
          "output_type": "execute_result",
          "data": {
            "text/plain": [
              "120"
            ]
          },
          "metadata": {
            "tags": []
          },
          "execution_count": 52
        }
      ]
    },
    {
      "cell_type": "code",
      "metadata": {
        "id": "gqj963BUEkuH",
        "colab_type": "code",
        "colab": {}
      },
      "source": [
        "fruits_info = {}"
      ],
      "execution_count": 0,
      "outputs": []
    },
    {
      "cell_type": "code",
      "metadata": {
        "id": "C37A_SbAB5cZ",
        "colab_type": "code",
        "colab": {
          "base_uri": "https://localhost:8080/",
          "height": 54
        },
        "outputId": "e4ecfced-d8d9-41e9-f068-f331d5e801a0"
      },
      "source": [
        "fruits_info = {fruits_label[i]: fruits_label_count[i] for i in range(len(fruits_label_count))} \n",
        "print(fruits_info)"
      ],
      "execution_count": 63,
      "outputs": [
        {
          "output_type": "stream",
          "text": [
            "{'Apple Braeburn': 492, 'Apple Crimson Snow': 444, 'Apple Golden 1': 492, 'Apple Golden 2': 492, 'Apple Golden 3': 481, 'Apple Granny Smith': 492, 'Apple Pink Lady': 456, 'Apple Red 1': 492, 'Apple Red 2': 492, 'Apple Red 3': 429, 'Apple Red Delicious': 490, 'Apple Red Yellow 1': 492, 'Apple Red Yellow 2': 672, 'Apricot': 492, 'Avocado': 427, 'Avocado ripe': 491, 'Banana': 490, 'Banana Lady Finger': 450, 'Banana Red': 490, 'Beetroot': 450, 'Blueberry': 462, 'Cactus fruit': 490, 'Cantaloupe 1': 492, 'Cantaloupe 2': 492, 'Carambula': 490, 'Cauliflower': 702, 'Cherry 1': 492, 'Cherry 2': 738, 'Cherry Rainier': 738, 'Cherry Wax Black': 492, 'Cherry Wax Red': 492, 'Cherry Wax Yellow': 492, 'Chestnut': 450, 'Clementine': 490, 'Cocos': 490, 'Dates': 490, 'Eggplant': 468, 'Ginger Root': 297, 'Granadilla': 490, 'Grape Blue': 984, 'Grape Pink': 492, 'Grape White': 490, 'Grape White 2': 490, 'Grape White 3': 492, 'Grape White 4': 471, 'Grapefruit Pink': 490, 'Grapefruit White': 492, 'Guava': 490, 'Hazelnut': 464, 'Huckleberry': 490, 'Kaki': 490, 'Kiwi': 466, 'Kohlrabi': 471, 'Kumquats': 490, 'Lemon': 492, 'Lemon Meyer': 490, 'Limes': 490, 'Lychee': 490, 'Mandarine': 490, 'Mango': 490, 'Mango Red': 426, 'Mangostan': 300, 'Maracuja': 490, 'Melon Piel de Sapo': 738, 'Mulberry': 492, 'Nectarine': 492, 'Nectarine Flat': 480, 'Nut Forest': 654, 'Nut Pecan': 534, 'Onion Red': 450, 'Onion Red Peeled': 445, 'Onion White': 438, 'Orange': 479, 'Papaya': 492, 'Passion Fruit': 490, 'Peach': 492, 'Peach 2': 738, 'Peach Flat': 492, 'Pear': 492, 'Pear Abate': 490, 'Pear Forelle': 702, 'Pear Kaiser': 300, 'Pear Monster': 490, 'Pear Red': 666, 'Pear Williams': 490, 'Pepino': 490, 'Pepper Green': 444, 'Pepper Red': 666, 'Pepper Yellow': 666, 'Physalis': 492, 'Physalis with Husk': 492, 'Pineapple': 490, 'Pineapple Mini': 493, 'Pitahaya Red': 490, 'Plum': 447, 'Plum 2': 420, 'Plum 3': 900, 'Pomegranate': 492, 'Pomelo Sweetie': 450, 'Potato Red': 450, 'Potato Red Washed': 453, 'Potato Sweet': 450, 'Potato White': 450, 'Quince': 490, 'Rambutan': 492, 'Raspberry': 490, 'Redcurrant': 492, 'Salak': 490, 'Strawberry': 492, 'Strawberry Wedge': 738, 'Tamarillo': 490, 'Tangelo': 490, 'Tomato 1': 738, 'Tomato 2': 672, 'Tomato 3': 738, 'Tomato 4': 479, 'Tomato Cherry Red': 492, 'Tomato Maroon': 367, 'Tomato Yellow': 459, 'Walnut': 735}\n"
          ],
          "name": "stdout"
        }
      ]
    },
    {
      "cell_type": "code",
      "metadata": {
        "id": "NrHoEOpqF09s",
        "colab_type": "code",
        "colab": {
          "base_uri": "https://localhost:8080/",
          "height": 54
        },
        "outputId": "29957c68-1b00-49c1-dec0-af3fe97d5d39"
      },
      "source": [
        "fruits_info_list = [[fruits_label[i],fruits_label_count[i]] for i in range(len(fruits_label_count))] \n",
        "print(fruits_info_list)"
      ],
      "execution_count": 77,
      "outputs": [
        {
          "output_type": "stream",
          "text": [
            "[['Apple Braeburn', 492], ['Apple Crimson Snow', 444], ['Apple Golden 1', 492], ['Apple Golden 2', 492], ['Apple Golden 3', 481], ['Apple Granny Smith', 492], ['Apple Pink Lady', 456], ['Apple Red 1', 492], ['Apple Red 2', 492], ['Apple Red 3', 429], ['Apple Red Delicious', 490], ['Apple Red Yellow 1', 492], ['Apple Red Yellow 2', 672], ['Apricot', 492], ['Avocado', 427], ['Avocado ripe', 491], ['Banana', 490], ['Banana Lady Finger', 450], ['Banana Red', 490], ['Beetroot', 450], ['Blueberry', 462], ['Cactus fruit', 490], ['Cantaloupe 1', 492], ['Cantaloupe 2', 492], ['Carambula', 490], ['Cauliflower', 702], ['Cherry 1', 492], ['Cherry 2', 738], ['Cherry Rainier', 738], ['Cherry Wax Black', 492], ['Cherry Wax Red', 492], ['Cherry Wax Yellow', 492], ['Chestnut', 450], ['Clementine', 490], ['Cocos', 490], ['Dates', 490], ['Eggplant', 468], ['Ginger Root', 297], ['Granadilla', 490], ['Grape Blue', 984], ['Grape Pink', 492], ['Grape White', 490], ['Grape White 2', 490], ['Grape White 3', 492], ['Grape White 4', 471], ['Grapefruit Pink', 490], ['Grapefruit White', 492], ['Guava', 490], ['Hazelnut', 464], ['Huckleberry', 490], ['Kaki', 490], ['Kiwi', 466], ['Kohlrabi', 471], ['Kumquats', 490], ['Lemon', 492], ['Lemon Meyer', 490], ['Limes', 490], ['Lychee', 490], ['Mandarine', 490], ['Mango', 490], ['Mango Red', 426], ['Mangostan', 300], ['Maracuja', 490], ['Melon Piel de Sapo', 738], ['Mulberry', 492], ['Nectarine', 492], ['Nectarine Flat', 480], ['Nut Forest', 654], ['Nut Pecan', 534], ['Onion Red', 450], ['Onion Red Peeled', 445], ['Onion White', 438], ['Orange', 479], ['Papaya', 492], ['Passion Fruit', 490], ['Peach', 492], ['Peach 2', 738], ['Peach Flat', 492], ['Pear', 492], ['Pear Abate', 490], ['Pear Forelle', 702], ['Pear Kaiser', 300], ['Pear Monster', 490], ['Pear Red', 666], ['Pear Williams', 490], ['Pepino', 490], ['Pepper Green', 444], ['Pepper Red', 666], ['Pepper Yellow', 666], ['Physalis', 492], ['Physalis with Husk', 492], ['Pineapple', 490], ['Pineapple Mini', 493], ['Pitahaya Red', 490], ['Plum', 447], ['Plum 2', 420], ['Plum 3', 900], ['Pomegranate', 492], ['Pomelo Sweetie', 450], ['Potato Red', 450], ['Potato Red Washed', 453], ['Potato Sweet', 450], ['Potato White', 450], ['Quince', 490], ['Rambutan', 492], ['Raspberry', 490], ['Redcurrant', 492], ['Salak', 490], ['Strawberry', 492], ['Strawberry Wedge', 738], ['Tamarillo', 490], ['Tangelo', 490], ['Tomato 1', 738], ['Tomato 2', 672], ['Tomato 3', 738], ['Tomato 4', 479], ['Tomato Cherry Red', 492], ['Tomato Maroon', 367], ['Tomato Yellow', 459], ['Walnut', 735]]\n"
          ],
          "name": "stdout"
        }
      ]
    },
    {
      "cell_type": "code",
      "metadata": {
        "id": "YorWcbMiIlpI",
        "colab_type": "code",
        "colab": {
          "base_uri": "https://localhost:8080/",
          "height": 34
        },
        "outputId": "c891589e-3707-4d4a-c824-7d16debfc974"
      },
      "source": [
        "fruits_info_list[1][1]"
      ],
      "execution_count": 83,
      "outputs": [
        {
          "output_type": "execute_result",
          "data": {
            "text/plain": [
              "444"
            ]
          },
          "metadata": {
            "tags": []
          },
          "execution_count": 83
        }
      ]
    },
    {
      "cell_type": "code",
      "metadata": {
        "id": "JpqmVv7ALO3F",
        "colab_type": "code",
        "colab": {
          "base_uri": "https://localhost:8080/",
          "height": 104
        },
        "outputId": "0111f7c0-84a0-41b9-d5b1-e2dcc8521e91"
      },
      "source": [
        "fruits_info_list[-5:][:]"
      ],
      "execution_count": 90,
      "outputs": [
        {
          "output_type": "execute_result",
          "data": {
            "text/plain": [
              "[['Tomato 4', 479],\n",
              " ['Tomato Cherry Red', 492],\n",
              " ['Tomato Maroon', 367],\n",
              " ['Tomato Yellow', 459],\n",
              " ['Walnut', 735]]"
            ]
          },
          "metadata": {
            "tags": []
          },
          "execution_count": 90
        }
      ]
    },
    {
      "cell_type": "code",
      "metadata": {
        "id": "RjRr3t6QLvgC",
        "colab_type": "code",
        "colab": {}
      },
      "source": [
        "classes = [\n",
        "  'Apple Golden 1',\n",
        "  'Avocado',\n",
        "  'Lemon',\n",
        "  'Mango',\n",
        "  'Kiwi',\n",
        "  'Banana',\n",
        "  'Strawberry',\n",
        "  'Raspberry'\n",
        "]"
      ],
      "execution_count": 0,
      "outputs": []
    },
    {
      "cell_type": "code",
      "metadata": {
        "id": "nQwFuh0RLy2A",
        "colab_type": "code",
        "colab": {
          "base_uri": "https://localhost:8080/",
          "height": 156
        },
        "outputId": "7e3ecff7-e57f-4cd6-83bb-4ef8c40d4601"
      },
      "source": [
        "#number of images per class\n",
        "for i in classes:\n",
        "  \n",
        "  print(i,\": \",fruits_info.get(i))"
      ],
      "execution_count": 103,
      "outputs": [
        {
          "output_type": "stream",
          "text": [
            "Apple Golden 1 :  492\n",
            "Avocado :  427\n",
            "Lemon :  492\n",
            "Mango :  490\n",
            "Kiwi :  466\n",
            "Banana :  490\n",
            "Strawberry :  492\n",
            "Raspberry :  490\n"
          ],
          "name": "stdout"
        }
      ]
    },
    {
      "cell_type": "code",
      "metadata": {
        "id": "dxOX3mOGNqZ_",
        "colab_type": "code",
        "colab": {}
      },
      "source": [
        "train_path_from = os.path.abspath('../content/Fruit-Images-Dataset/Training')\n",
        "valid_path_from = os.path.abspath('../content/Fruit-Images-Dataset/Test')\n",
        "\n",
        "train_path_to = os.path.abspath('../content/fruits_img/fruits-360-small/Training')\n",
        "valid_path_to = os.path.abspath('../content/fruits_img/fruits-360-small/Validation')"
      ],
      "execution_count": 0,
      "outputs": []
    },
    {
      "cell_type": "code",
      "metadata": {
        "id": "x-ECNEnPOIGP",
        "colab_type": "code",
        "colab": {}
      },
      "source": [
        "make_dir(train_path_to)\n",
        "make_dir(valid_path_to)"
      ],
      "execution_count": 0,
      "outputs": []
    },
    {
      "cell_type": "code",
      "metadata": {
        "id": "FvIubwH1OWkV",
        "colab_type": "code",
        "colab": {}
      },
      "source": [
        "for items in classes:\n",
        "  link(train_path_from + '/' + items, train_path_to + '/' + items)\n",
        "  link(valid_path_from + '/' + items, valid_path_to + '/' + items)"
      ],
      "execution_count": 0,
      "outputs": []
    },
    {
      "cell_type": "markdown",
      "metadata": {
        "id": "UTfPkvLAO7Qq",
        "colab_type": "text"
      },
      "source": [
        "#Model VGG16"
      ]
    },
    {
      "cell_type": "code",
      "metadata": {
        "id": "KPDYQX7EOuiQ",
        "colab_type": "code",
        "colab": {}
      },
      "source": [
        "from __future__ import  print_function,division\n",
        "from builtins import input,range\n",
        "\n",
        "from keras.layers import Dense,Input,Flatten,Lambda\n",
        "from keras.applications.vgg16 import VGG16\n",
        "from keras.applications.vgg16 import preprocess_input\n",
        "from keras.preprocessing import image\n",
        "from keras.preprocessing.image import ImageDataGenerator\n",
        "from keras.models import Model\n",
        "\n",
        "\n",
        "from sklearn.metrics import confusion_matrix\n",
        "import numpy as np\n",
        "import matplotlib.pyplot as plt\n",
        "import glob as glob\n"
      ],
      "execution_count": 0,
      "outputs": []
    },
    {
      "cell_type": "code",
      "metadata": {
        "id": "SlUKGA8WRIPh",
        "colab_type": "code",
        "colab": {}
      },
      "source": [
        "image_size = [100,100]\n",
        "epochs =5\n",
        "batch_size =32\n"
      ],
      "execution_count": 0,
      "outputs": []
    },
    {
      "cell_type": "code",
      "metadata": {
        "id": "WTcAUUEARVqZ",
        "colab_type": "code",
        "colab": {}
      },
      "source": [
        "train_path = '../content/fruits_img/fruits-360-small/Training'\n",
        "validation_path = '../content/fruits_img/fruits-360-small/Validation' "
      ],
      "execution_count": 0,
      "outputs": []
    },
    {
      "cell_type": "code",
      "metadata": {
        "id": "Qngh-K08RyTU",
        "colab_type": "code",
        "colab": {
          "base_uri": "https://localhost:8080/",
          "height": 34
        },
        "outputId": "6edea864-20be-4dd3-a64d-3a05ce44c72d"
      },
      "source": [
        "train_image_files= glob(train_path +'/*/*.jp*g')\n",
        "print(len(train_image_files))\n",
        "validation_image_files= glob(validation_path + '/*/*.jp*g')\n"
      ],
      "execution_count": 117,
      "outputs": [
        {
          "output_type": "stream",
          "text": [
            "3839\n"
          ],
          "name": "stdout"
        }
      ]
    },
    {
      "cell_type": "code",
      "metadata": {
        "id": "vFe9dj80TYh4",
        "colab_type": "code",
        "colab": {
          "base_uri": "https://localhost:8080/",
          "height": 34
        },
        "outputId": "ae226120-cac7-482e-ab38-dfc9a9c13fd5"
      },
      "source": [
        "input_classes=glob('../content/fruits_img/fruits-360-small/Training/*')\n",
        "print(len(input_classes))"
      ],
      "execution_count": 119,
      "outputs": [
        {
          "output_type": "stream",
          "text": [
            "8\n"
          ],
          "name": "stdout"
        }
      ]
    },
    {
      "cell_type": "code",
      "metadata": {
        "id": "ZtkPIhruUEUZ",
        "colab_type": "code",
        "colab": {
          "base_uri": "https://localhost:8080/",
          "height": 268
        },
        "outputId": "12db8bc5-c9a7-4fe8-c8bf-c7af8476e128"
      },
      "source": [
        "plt.imshow(image.load_img(np.random.choice(train_image_files)))\n",
        "plt.show()"
      ],
      "execution_count": 122,
      "outputs": [
        {
          "output_type": "display_data",
          "data": {
            "image/png": "[encoded data removed]",
            "text/plain": [
              "<Figure size 432x288 with 1 Axes>"
            ]
          },
          "metadata": {
            "tags": []
          }
        }
      ]
    },
    {
      "cell_type": "code",
      "metadata": {
        "id": "RsBg5OVoUdFN",
        "colab_type": "code",
        "colab": {}
      },
      "source": [
        "vgg = VGG16(input_shape=image_size + [3], include_top=False, weights='imagenet')"
      ],
      "execution_count": 0,
      "outputs": []
    },
    {
      "cell_type": "code",
      "metadata": {
        "id": "pnmZU3SLWxGy",
        "colab_type": "code",
        "colab": {}
      },
      "source": [
        "for layers in vgg.layers:\n",
        "  layers.trainable=False"
      ],
      "execution_count": 0,
      "outputs": []
    },
    {
      "cell_type": "code",
      "metadata": {
        "id": "ir_SvPB9XAUb",
        "colab_type": "code",
        "colab": {}
      },
      "source": [
        "x=Flatten()(vgg.output)\n",
        "output_layer = Dense(len(input_classes),activation='softmax')(x)"
      ],
      "execution_count": 0,
      "outputs": []
    },
    {
      "cell_type": "code",
      "metadata": {
        "id": "HfZcOz6nXpWA",
        "colab_type": "code",
        "colab": {
          "base_uri": "https://localhost:8080/",
          "height": 71
        },
        "outputId": "d74ff2e5-4b00-4af3-c310-7af0e6de01ef"
      },
      "source": [
        "model= Model(input=vgg.input,output=output_layer)"
      ],
      "execution_count": 142,
      "outputs": [
        {
          "output_type": "stream",
          "text": [
            "/usr/local/lib/python3.6/dist-packages/ipykernel_launcher.py:1: UserWarning: Update your `Model` call to the Keras 2 API: `Model(inputs=Tensor(\"in..., outputs=Tensor(\"de...)`\n",
            "  \"\"\"Entry point for launching an IPython kernel.\n"
          ],
          "name": "stderr"
        }
      ]
    },
    {
      "cell_type": "code",
      "metadata": {
        "id": "o09aRw4AX3Mf",
        "colab_type": "code",
        "colab": {
          "base_uri": "https://localhost:8080/",
          "height": 888
        },
        "outputId": "a58f8cea-ecf0-45b4-b00d-8f7625e54746"
      },
      "source": [
        "model.summary()"
      ],
      "execution_count": 143,
      "outputs": [
        {
          "output_type": "stream",
          "text": [
            "Model: \"model_1\"\n",
            "_________________________________________________________________\n",
            "Layer (type)                 Output Shape              Param #   \n",
            "=================================================================\n",
            "input_1 (InputLayer)         (None, 100, 100, 3)       0         \n",
            "_________________________________________________________________\n",
            "block1_conv1 (Conv2D)        (None, 100, 100, 64)      1792      \n",
            "_________________________________________________________________\n",
            "block1_conv2 (Conv2D)        (None, 100, 100, 64)      36928     \n",
            "_________________________________________________________________\n",
            "block1_pool (MaxPooling2D)   (None, 50, 50, 64)        0         \n",
            "_________________________________________________________________\n",
            "block2_conv1 (Conv2D)        (None, 50, 50, 128)       73856     \n",
            "_________________________________________________________________\n",
            "block2_conv2 (Conv2D)        (None, 50, 50, 128)       147584    \n",
            "_________________________________________________________________\n",
            "block2_pool (MaxPooling2D)   (None, 25, 25, 128)       0         \n",
            "_________________________________________________________________\n",
            "block3_conv1 (Conv2D)        (None, 25, 25, 256)       295168    \n",
            "_________________________________________________________________\n",
            "block3_conv2 (Conv2D)        (None, 25, 25, 256)       590080    \n",
            "_________________________________________________________________\n",
            "block3_conv3 (Conv2D)        (None, 25, 25, 256)       590080    \n",
            "_________________________________________________________________\n",
            "block3_pool (MaxPooling2D)   (None, 12, 12, 256)       0         \n",
            "_________________________________________________________________\n",
            "block4_conv1 (Conv2D)        (None, 12, 12, 512)       1180160   \n",
            "_________________________________________________________________\n",
            "block4_conv2 (Conv2D)        (None, 12, 12, 512)       2359808   \n",
            "_________________________________________________________________\n",
            "block4_conv3 (Conv2D)        (None, 12, 12, 512)       2359808   \n",
            "_________________________________________________________________\n",
            "block4_pool (MaxPooling2D)   (None, 6, 6, 512)         0         \n",
            "_________________________________________________________________\n",
            "block5_conv1 (Conv2D)        (None, 6, 6, 512)         2359808   \n",
            "_________________________________________________________________\n",
            "block5_conv2 (Conv2D)        (None, 6, 6, 512)         2359808   \n",
            "_________________________________________________________________\n",
            "block5_conv3 (Conv2D)        (None, 6, 6, 512)         2359808   \n",
            "_________________________________________________________________\n",
            "block5_pool (MaxPooling2D)   (None, 3, 3, 512)         0         \n",
            "_________________________________________________________________\n",
            "flatten_1 (Flatten)          (None, 4608)              0         \n",
            "_________________________________________________________________\n",
            "dense_1 (Dense)              (None, 8)                 36872     \n",
            "=================================================================\n",
            "Total params: 14,751,560\n",
            "Trainable params: 36,872\n",
            "Non-trainable params: 14,714,688\n",
            "_________________________________________________________________\n"
          ],
          "name": "stdout"
        }
      ]
    },
    {
      "cell_type": "code",
      "metadata": {
        "id": "-Awxe2GWYBLZ",
        "colab_type": "code",
        "colab": {
          "base_uri": "https://localhost:8080/",
          "height": 818
        },
        "outputId": "e1aa2913-53e8-42a8-cf26-1c6eb4ebbeeb"
      },
      "source": [
        "vgg.summary()"
      ],
      "execution_count": 145,
      "outputs": [
        {
          "output_type": "stream",
          "text": [
            "Model: \"vgg16\"\n",
            "_________________________________________________________________\n",
            "Layer (type)                 Output Shape              Param #   \n",
            "=================================================================\n",
            "input_1 (InputLayer)         (None, 100, 100, 3)       0         \n",
            "_________________________________________________________________\n",
            "block1_conv1 (Conv2D)        (None, 100, 100, 64)      1792      \n",
            "_________________________________________________________________\n",
            "block1_conv2 (Conv2D)        (None, 100, 100, 64)      36928     \n",
            "_________________________________________________________________\n",
            "block1_pool (MaxPooling2D)   (None, 50, 50, 64)        0         \n",
            "_________________________________________________________________\n",
            "block2_conv1 (Conv2D)        (None, 50, 50, 128)       73856     \n",
            "_________________________________________________________________\n",
            "block2_conv2 (Conv2D)        (None, 50, 50, 128)       147584    \n",
            "_________________________________________________________________\n",
            "block2_pool (MaxPooling2D)   (None, 25, 25, 128)       0         \n",
            "_________________________________________________________________\n",
            "block3_conv1 (Conv2D)        (None, 25, 25, 256)       295168    \n",
            "_________________________________________________________________\n",
            "block3_conv2 (Conv2D)        (None, 25, 25, 256)       590080    \n",
            "_________________________________________________________________\n",
            "block3_conv3 (Conv2D)        (None, 25, 25, 256)       590080    \n",
            "_________________________________________________________________\n",
            "block3_pool (MaxPooling2D)   (None, 12, 12, 256)       0         \n",
            "_________________________________________________________________\n",
            "block4_conv1 (Conv2D)        (None, 12, 12, 512)       1180160   \n",
            "_________________________________________________________________\n",
            "block4_conv2 (Conv2D)        (None, 12, 12, 512)       2359808   \n",
            "_________________________________________________________________\n",
            "block4_conv3 (Conv2D)        (None, 12, 12, 512)       2359808   \n",
            "_________________________________________________________________\n",
            "block4_pool (MaxPooling2D)   (None, 6, 6, 512)         0         \n",
            "_________________________________________________________________\n",
            "block5_conv1 (Conv2D)        (None, 6, 6, 512)         2359808   \n",
            "_________________________________________________________________\n",
            "block5_conv2 (Conv2D)        (None, 6, 6, 512)         2359808   \n",
            "_________________________________________________________________\n",
            "block5_conv3 (Conv2D)        (None, 6, 6, 512)         2359808   \n",
            "_________________________________________________________________\n",
            "block5_pool (MaxPooling2D)   (None, 3, 3, 512)         0         \n",
            "=================================================================\n",
            "Total params: 14,714,688\n",
            "Trainable params: 0\n",
            "Non-trainable params: 14,714,688\n",
            "_________________________________________________________________\n"
          ],
          "name": "stdout"
        }
      ]
    },
    {
      "cell_type": "code",
      "metadata": {
        "id": "4sTFiQ16X5QR",
        "colab_type": "code",
        "colab": {
          "base_uri": "https://localhost:8080/",
          "height": 106
        },
        "outputId": "b14e4bde-4a73-4c4a-869c-9166c610e2ad"
      },
      "source": [
        "model.compile(optimizer=\"rmsprop\",loss=\"categorical_crossentropy\", metrics=['accuracy'])"
      ],
      "execution_count": 146,
      "outputs": [
        {
          "output_type": "stream",
          "text": [
            "WARNING:tensorflow:From /usr/local/lib/python3.6/dist-packages/keras/optimizers.py:793: The name tf.train.Optimizer is deprecated. Please use tf.compat.v1.train.Optimizer instead.\n",
            "\n",
            "WARNING:tensorflow:From /usr/local/lib/python3.6/dist-packages/keras/backend/tensorflow_backend.py:3576: The name tf.log is deprecated. Please use tf.math.log instead.\n",
            "\n"
          ],
          "name": "stdout"
        }
      ]
    },
    {
      "cell_type": "code",
      "metadata": {
        "id": "qgIUwEaGY_ZR",
        "colab_type": "code",
        "colab": {}
      },
      "source": [
        "gen = ImageDataGenerator(\n",
        "  rotation_range=20,\n",
        "  width_shift_range=0.1,\n",
        "  height_shift_range=0.1,\n",
        "  shear_range=0.1,\n",
        "  zoom_range=0.2,\n",
        "  horizontal_flip=True,\n",
        "  vertical_flip=True,\n",
        "  preprocessing_function=preprocess_input\n",
        ")"
      ],
      "execution_count": 0,
      "outputs": []
    },
    {
      "cell_type": "code",
      "metadata": {
        "id": "Mw5yy81UZINH",
        "colab_type": "code",
        "colab": {
          "base_uri": "https://localhost:8080/",
          "height": 51
        },
        "outputId": "d41ba7b8-dff4-4466-e2c1-a669aa6b2dad"
      },
      "source": [
        "test_gen = gen.flow_from_directory(validation_path, target_size=image_size)\n",
        "print(test_gen.class_indices)"
      ],
      "execution_count": 150,
      "outputs": [
        {
          "output_type": "stream",
          "text": [
            "Found 1289 images belonging to 8 classes.\n",
            "{'Apple Golden 1': 0, 'Avocado': 1, 'Banana': 2, 'Kiwi': 3, 'Lemon': 4, 'Mango': 5, 'Raspberry': 6, 'Strawberry': 7}\n"
          ],
          "name": "stdout"
        }
      ]
    },
    {
      "cell_type": "code",
      "metadata": {
        "id": "rDVCooZqZeeB",
        "colab_type": "code",
        "colab": {}
      },
      "source": [
        "labels = [None] * len(test_gen.class_indices)\n",
        "for k, v in test_gen.class_indices.items():\n",
        "  labels[v] = k"
      ],
      "execution_count": 0,
      "outputs": []
    },
    {
      "cell_type": "code",
      "metadata": {
        "id": "V-3RS4qbZv6r",
        "colab_type": "code",
        "colab": {
          "base_uri": "https://localhost:8080/",
          "height": 156
        },
        "outputId": "17901189-25ca-43d5-e092-cab407841ea4"
      },
      "source": [
        "labels"
      ],
      "execution_count": 152,
      "outputs": [
        {
          "output_type": "execute_result",
          "data": {
            "text/plain": [
              "['Apple Golden 1',\n",
              " 'Avocado',\n",
              " 'Banana',\n",
              " 'Kiwi',\n",
              " 'Lemon',\n",
              " 'Mango',\n",
              " 'Raspberry',\n",
              " 'Strawberry']"
            ]
          },
          "metadata": {
            "tags": []
          },
          "execution_count": 152
        }
      ]
    },
    {
      "cell_type": "code",
      "metadata": {
        "id": "GF4hMYFNZ2Au",
        "colab_type": "code",
        "colab": {
          "base_uri": "https://localhost:8080/",
          "height": 316
        },
        "outputId": "e97b2841-c46d-44fd-c94e-c66bb72ebdcc"
      },
      "source": [
        "for x, y in test_gen:\n",
        "  print(\"min:\", x[0].min(), \"max:\", x[0].max())\n",
        "  plt.title(labels[np.argmax(y[0])])\n",
        "  plt.imshow(x[0])\n",
        "  plt.show()\n",
        "  break"
      ],
      "execution_count": 154,
      "outputs": [
        {
          "output_type": "stream",
          "text": [
            "Clipping input data to the valid range for imshow with RGB data ([0..1] for floats or [0..255] for integers).\n"
          ],
          "name": "stderr"
        },
        {
          "output_type": "stream",
          "text": [
            "min: -92.61236 max: 151.061\n"
          ],
          "name": "stdout"
        },
        {
          "output_type": "display_data",
          "data": {
            "image/png": "[encoded data removed]",
            "text/plain": [
              "<Figure size 432x288 with 1 Axes>"
            ]
          },
          "metadata": {
            "tags": []
          }
        }
      ]
    },
    {
      "cell_type": "code",
      "metadata": {
        "id": "KfoS245DaPOq",
        "colab_type": "code",
        "colab": {
          "base_uri": "https://localhost:8080/",
          "height": 51
        },
        "outputId": "9331beeb-6064-4ca3-e3e3-db21f20cb91b"
      },
      "source": [
        "train_generator = gen.flow_from_directory(\n",
        "  train_path,\n",
        "  target_size=image_size,\n",
        "  shuffle=True,\n",
        "  batch_size=batch_size,\n",
        ")\n",
        "valid_generator = gen.flow_from_directory(\n",
        "  validation_path,\n",
        "  target_size=image_size,\n",
        "  shuffle=True,\n",
        "  batch_size=batch_size,\n",
        ")"
      ],
      "execution_count": 155,
      "outputs": [
        {
          "output_type": "stream",
          "text": [
            "Found 3839 images belonging to 8 classes.\n",
            "Found 1289 images belonging to 8 classes.\n"
          ],
          "name": "stdout"
        }
      ]
    },
    {
      "cell_type": "code",
      "metadata": {
        "id": "jU091kR-agDk",
        "colab_type": "code",
        "colab": {
          "base_uri": "https://localhost:8080/",
          "height": 333
        },
        "outputId": "7de4673f-f94a-4b09-a716-06bec30d6f85"
      },
      "source": [
        "fit_model = model.fit_generator(\n",
        "  train_generator,\n",
        "  validation_data=valid_generator,\n",
        "  epochs=epochs,\n",
        "  steps_per_epoch=len(train_image_files) // batch_size,\n",
        "  validation_steps=len(validation_image_files) // batch_size,\n",
        ")"
      ],
      "execution_count": 156,
      "outputs": [
        {
          "output_type": "stream",
          "text": [
            "WARNING:tensorflow:From /usr/local/lib/python3.6/dist-packages/tensorflow_core/python/ops/math_grad.py:1424: where (from tensorflow.python.ops.array_ops) is deprecated and will be removed in a future version.\n",
            "Instructions for updating:\n",
            "Use tf.where in 2.0, which has the same broadcast rule as np.where\n",
            "WARNING:tensorflow:From /usr/local/lib/python3.6/dist-packages/keras/backend/tensorflow_backend.py:1033: The name tf.assign_add is deprecated. Please use tf.compat.v1.assign_add instead.\n",
            "\n",
            "WARNING:tensorflow:From /usr/local/lib/python3.6/dist-packages/keras/backend/tensorflow_backend.py:1020: The name tf.assign is deprecated. Please use tf.compat.v1.assign instead.\n",
            "\n",
            "Epoch 1/5\n",
            "119/119 [==============================] - 21s 176ms/step - loss: 0.6772 - acc: 0.9372 - val_loss: 0.0463 - val_acc: 0.9914\n",
            "Epoch 2/5\n",
            "119/119 [==============================] - 14s 119ms/step - loss: 0.0545 - acc: 0.9929 - val_loss: 0.0246 - val_acc: 0.9944\n",
            "Epoch 3/5\n",
            "119/119 [==============================] - 14s 118ms/step - loss: 0.0124 - acc: 0.9976 - val_loss: 0.0246 - val_acc: 0.9960\n",
            "Epoch 4/5\n",
            "119/119 [==============================] - 14s 118ms/step - loss: 0.0346 - acc: 0.9945 - val_loss: 0.0158 - val_acc: 0.9976\n",
            "Epoch 5/5\n",
            "119/119 [==============================] - 14s 122ms/step - loss: 0.0197 - acc: 0.9976 - val_loss: 9.7836e-04 - val_acc: 0.9992\n"
          ],
          "name": "stdout"
        }
      ]
    },
    {
      "cell_type": "code",
      "metadata": {
        "id": "a-V29qyPbltq",
        "colab_type": "code",
        "colab": {}
      },
      "source": [
        "def get_confusion_matrix(data_path, N):\n",
        "  # we need to see the data in the same order\n",
        "  # for both predictions and targets\n",
        "  print(\"Generating confusion matrix\", N)\n",
        "  predictions = []\n",
        "  targets = []\n",
        "  i = 0\n",
        "  for x, y in gen.flow_from_directory(data_path, target_size=image_size, shuffle=False, batch_size=batch_size * 2):\n",
        "    i += 1\n",
        "    if i % 50 == 0:\n",
        "      print(i)\n",
        "    p = model.predict(x)\n",
        "    p = np.argmax(p, axis=1)\n",
        "    y = np.argmax(y, axis=1)\n",
        "    predictions = np.concatenate((predictions, p))\n",
        "    targets = np.concatenate((targets, y))\n",
        "    if len(targets) >= N:\n",
        "      break\n",
        "\n",
        "  cm = confusion_matrix(targets, predictions)\n",
        "  return cm"
      ],
      "execution_count": 0,
      "outputs": []
    },
    {
      "cell_type": "code",
      "metadata": {
        "id": "xSPsO8XCb2N3",
        "colab_type": "code",
        "colab": {
          "base_uri": "https://localhost:8080/",
          "height": 382
        },
        "outputId": "da3be22e-e418-4e84-8279-b4ec2c28dc35"
      },
      "source": [
        "cm = get_confusion_matrix(train_path, len(train_image_files))\n",
        "print(cm)\n",
        "validation_cm = get_confusion_matrix(validation_path, len(validation_image_files))\n",
        "print(validation_cm)"
      ],
      "execution_count": 159,
      "outputs": [
        {
          "output_type": "stream",
          "text": [
            "Generating confusion matrix 3839\n",
            "Found 3839 images belonging to 8 classes.\n",
            "50\n",
            "[[492   0   0   0   0   0   0   0]\n",
            " [  0 426   0   0   0   1   0   0]\n",
            " [  0   0 490   0   0   0   0   0]\n",
            " [  0   0   0 466   0   0   0   0]\n",
            " [  0   0   0   0 492   0   0   0]\n",
            " [  0   0   0   0   0 490   0   0]\n",
            " [  0   0   0   0   0   0 490   0]\n",
            " [  0   0   0   0   0   0   0 492]]\n",
            "Generating confusion matrix 1289\n",
            "Found 1289 images belonging to 8 classes.\n",
            "[[163   0   0   0   1   0   0   0]\n",
            " [  0 143   0   0   0   0   0   0]\n",
            " [  0   0 166   0   0   0   0   0]\n",
            " [  0   0   0 156   0   0   0   0]\n",
            " [  0   0   0   0 164   0   0   0]\n",
            " [  0   0   0   0   0 166   0   0]\n",
            " [  0   0   0   0   0   0 166   0]\n",
            " [  0   0   0   0   0   0   0 164]]\n"
          ],
          "name": "stdout"
        }
      ]
    },
    {
      "cell_type": "code",
      "metadata": {
        "id": "47sYB2gUdhfp",
        "colab_type": "code",
        "colab": {
          "base_uri": "https://localhost:8080/",
          "height": 514
        },
        "outputId": "a3cc8c83-8608-4794-cc18-ff3ce0ec9512"
      },
      "source": [
        "# loss\n",
        "plt.plot(fit_model.history['loss'], label='train loss')\n",
        "plt.plot(fit_model.history['val_loss'], label='val loss')\n",
        "plt.legend()\n",
        "plt.show()\n",
        "\n",
        "# accuracies\n",
        "plt.plot(fit_model.history['acc'], label='train acc')\n",
        "plt.plot(fit_model.history['val_acc'], label='val acc')\n",
        "plt.legend()\n",
        "plt.show()"
      ],
      "execution_count": 167,
      "outputs": [
        {
          "output_type": "display_data",
          "data": {
            "image/png": "[encoded data removed]",
            "text/plain": [
              "<Figure size 432x288 with 1 Axes>"
            ]
          },
          "metadata": {
            "tags": []
          }
        },
        {
          "output_type": "display_data",
          "data": {
            "image/png": "[encoded data removed]",
            "text/plain": [
              "<Figure size 432x288 with 1 Axes>"
            ]
          },
          "metadata": {
            "tags": []
          }
        }
      ]
    }
  ]
}